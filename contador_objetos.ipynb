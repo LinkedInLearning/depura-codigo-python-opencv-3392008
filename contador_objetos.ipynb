{
 "cells": [
  {
   "cell_type": "code",
   "execution_count": null,
   "id": "78d0563a-a5ed-4ba9-91a9-20f2b75c3922",
   "metadata": {},
   "outputs": [],
   "source": [
    "import cv2\n",
    "import numpy as np\n",
    "import os\n",
    "\n",
    "from matplotlib import pyplot as plt\n",
    "from ultralytics import YOLO"
   ]
  },
  {
   "cell_type": "code",
   "execution_count": null,
   "id": "acb707da-b965-41e2-9bb8-f3d336fd0a7a",
   "metadata": {},
   "outputs": [],
   "source": [
    "model = YOLO('yolov8n.pt')\n",
    "class_names = model.names"
   ]
  },
  {
   "cell_type": "code",
   "execution_count": null,
   "id": "055e407c-8bf6-4596-9517-8a644c108023",
   "metadata": {},
   "outputs": [],
   "source": [
    "def read_img(img_path):\n",
    "    img_abs_path = os.path.join(os.getcwd(), img_path)\n",
    "    image = cv2.imread(img_path\n",
    "    return image"
   ]
  },
  {
   "cell_type": "code",
   "execution_count": null,
   "id": "eb2e3185-fe89-42e8-8160-f249cb76470b",
   "metadata": {},
   "outputs": [],
   "source": [
    "def count_objects(image, object_name):\n",
    "\n",
    "    if object_name.lower() not in class_names.values():\n",
    "        image = cv2.putText(image, f\"Object {object_name} Not Allowed\", (200, 200), fontFace=cv2.FONT_HERSHEY_DUPLEX, fontScale=2.0, color=(0, 0, 255), thickness=3)\n",
    "        return image\n",
    "\n",
    "    object_count = 0\n",
    "    model_results = model(image, stream=True)\n",
    "    for result in model_results:\n",
    "        boxes = result.boxes\n",
    "        for box in boxes:\n",
    "            x1, y1, x2, y2 = box.xyxy[0]\n",
    "            cls = box.cls[0]\n",
    "            name = class_names[int(cls)]\n",
    "\n",
    "            if name == object_name.lower():\n",
    "                object_count += 1\n",
    "                image = cv2.rectangle(image, (x1, y1), (x2, y2), (255, 0, 0), 2)\n",
    "\n",
    "    if object_count > 0:\n",
    "        image = cv2.putText(image, f\"{object_count} {object_name} found\", (200, 200), fontFace=cv2.FONT_HERSHEY_DUPLEX, fontScale=2.0, color=(255, 0, 0), thickness=3)\n",
    "    else:\n",
    "        image = cv2.putText(image, f\"Object {object_name} Not Found\", (200, 200), fontFace=cv2.FONT_HERSHEY_DUPLEX, fontScale=2.0, color=(0, 0, 255), thickness=3)\n",
    "\n",
    "    return image"
   ]
  },
  {
   "cell_type": "code",
   "execution_count": null,
   "id": "33144f68-0c82-4225-96e1-15322d69f057",
   "metadata": {},
   "outputs": [],
   "source": [
    "image = read_img(\"imgs/test.jpg\")\n",
    "\n",
    "cv2.imshow('Image', image)\n",
    "cv2.waitKey(0)"
   ]
  },
  {
   "cell_type": "code",
   "execution_count": null,
   "id": "47c6ded7-9176-41e9-a83d-dcd13237bf74",
   "metadata": {},
   "outputs": [],
   "source": [
    "result_image = count_objects(image, \"dog\")\n",
    "\n",
    "plt.imshow(cv2.cvtColor(result_image, cv2.COLOR_BGR2RGB))\n",
    "plt.show()"
   ]
  },
  {
   "cell_type": "code",
   "execution_count": null,
   "id": "07728697-ef35-492b-89c4-4cc8999bd857",
   "metadata": {},
   "outputs": [],
   "source": [
    "image = read_img(\"imgs/tests.jpg\")\n",
    "\n",
    "plt.imshow(cv2.cvtColor(image, cv2.COLOR_BGR2RGB))\n",
    "plt.show()"
   ]
  },
  {
   "cell_type": "code",
   "execution_count": null,
   "id": "15a72393-2f98-4ee6-976a-6668031fa875",
   "metadata": {},
   "outputs": [],
   "source": [
    "result_image = count_objects(image, \"dog\")\n",
    "\n",
    "plt.imshow(cv2.cvtColor(result_image, cv2.COLOR_BGR2RGB))\n",
    "plt.show()"
   ]
  },
  {
   "cell_type": "code",
   "execution_count": null,
   "id": "a809052d-bdb2-4db0-a7b5-d7bb6cd54f43",
   "metadata": {},
   "outputs": [],
   "source": []
  }
 ],
 "metadata": {
  "kernelspec": {
   "display_name": "Python 3 (ipykernel)",
   "language": "python",
   "name": "python3"
  },
  "language_info": {
   "codemirror_mode": {
    "name": "ipython",
    "version": 3
   },
   "file_extension": ".py",
   "mimetype": "text/x-python",
   "name": "python",
   "nbconvert_exporter": "python",
   "pygments_lexer": "ipython3",
   "version": "3.10.14"
  }
 },
 "nbformat": 4,
 "nbformat_minor": 5
}
